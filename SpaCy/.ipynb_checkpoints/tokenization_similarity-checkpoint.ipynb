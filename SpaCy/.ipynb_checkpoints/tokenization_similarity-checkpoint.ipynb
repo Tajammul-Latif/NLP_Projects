{
 "cells": [
  {
   "cell_type": "code",
   "execution_count": 1,
   "id": "73688c97",
   "metadata": {},
   "outputs": [],
   "source": [
    "import spacy\n",
    "nlp = spacy.load('en_core_web_sm')"
   ]
  },
  {
   "cell_type": "code",
   "execution_count": 2,
   "id": "4f4f8281",
   "metadata": {},
   "outputs": [
    {
     "name": "stdout",
     "output_type": "stream",
     "text": [
      "Apple\n",
      "is\n",
      "looking\n",
      "at\n",
      "buying\n",
      "U.K.\n",
      "startup\n",
      "for\n",
      "$\n",
      "1\n",
      "billion\n"
     ]
    }
   ],
   "source": [
    "doc = nlp(\"Apple is looking at buying U.K. startup for $1 billion\")\n",
    "for token in doc:\n",
    "    print(token.text)"
   ]
  },
  {
   "cell_type": "code",
   "execution_count": 8,
   "id": "0c104c31",
   "metadata": {},
   "outputs": [
    {
     "name": "stdout",
     "output_type": "stream",
     "text": [
      "Apple 0 5 ORG\n",
      "U.K. 27 31 GPE\n",
      "$1 billion 44 54 MONEY\n"
     ]
    }
   ],
   "source": [
    "# NER (Named Entity Recognition)\n",
    "\n",
    "for ent in doc.ents:\n",
    "    print(ent.text, ent.start_char, ent.end_char, ent.label_)"
   ]
  },
  {
   "cell_type": "code",
   "execution_count": 11,
   "id": "1187affa",
   "metadata": {},
   "outputs": [],
   "source": [
    "# using lg package of spacy and finding the similarity between documents and words\n",
    "\n",
    "nlp = spacy.load('en_core_web_lg')\n",
    "doc1 = nlp('I like salty fries and hamburgers')\n",
    "doc2 = nlp('Fast food tastes very good')"
   ]
  },
  {
   "cell_type": "code",
   "execution_count": 17,
   "id": "aad46baa",
   "metadata": {},
   "outputs": [
    {
     "name": "stdout",
     "output_type": "stream",
     "text": [
      "I like salty fries and hamburgers <-> Fast food tastes very good \n",
      "Similarity :  0.7235924953391557\n"
     ]
    }
   ],
   "source": [
    "# Similarity of two documents\n",
    "\n",
    "print(doc1, '<->', doc2, '\\nSimilarity : ', doc1.similarity(doc2))"
   ]
  },
  {
   "cell_type": "code",
   "execution_count": 18,
   "id": "83b67992",
   "metadata": {},
   "outputs": [
    {
     "name": "stdout",
     "output_type": "stream",
     "text": [
      "salty fries <-> hamburgers \n",
      "Similarity :  0.6949787735939026\n"
     ]
    }
   ],
   "source": [
    "# Similarity of tokens and spans\n",
    "\n",
    "french_fires = doc1[2:4]\n",
    "burgers = doc1[5]\n",
    "print(french_fires, '<->', burgers, '\\nSimilarity : ', french_fires.similarity(burgers))"
   ]
  },
  {
   "cell_type": "code",
   "execution_count": null,
   "id": "6ba4f8a1",
   "metadata": {},
   "outputs": [],
   "source": []
  }
 ],
 "metadata": {
  "kernelspec": {
   "display_name": "Python 3 (ipykernel)",
   "language": "python",
   "name": "python3"
  },
  "language_info": {
   "codemirror_mode": {
    "name": "ipython",
    "version": 3
   },
   "file_extension": ".py",
   "mimetype": "text/x-python",
   "name": "python",
   "nbconvert_exporter": "python",
   "pygments_lexer": "ipython3",
   "version": "3.9.13"
  }
 },
 "nbformat": 4,
 "nbformat_minor": 5
}

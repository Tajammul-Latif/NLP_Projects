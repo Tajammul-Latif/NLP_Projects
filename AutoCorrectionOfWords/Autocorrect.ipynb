{
 "cells": [
  {
   "cell_type": "code",
   "execution_count": 30,
   "id": "2068a6a2",
   "metadata": {},
   "outputs": [
    {
     "name": "stdout",
     "output_type": "stream",
     "text": [
      "The first ten words in the text are : \n",
      "['A', 'a', 'aa', 'aal', 'aalii', 'aam', 'Aani', 'aardvark', 'aardwolf', 'Aaron']\n",
      "There are 235892 unique words in the vocabulary.\n"
     ]
    }
   ],
   "source": [
    "import pandas as pd\n",
    "import numpy as np\n",
    "import textdistance\n",
    "import re\n",
    "from collections import Counter\n",
    "from nltk.corpus import words\n",
    "word_list = words.words()\n",
    "\n",
    "\"\"\"words = []\n",
    "with open('textFile.txt', 'r', encoding='utf-8'\"\") as f:\n",
    "    file_name_data = f.read()\n",
    "    file_name_data = file_name_data.lower()\n",
    "    words = re.findall('\\w+', file_name_data)\"\"\"\n",
    "    \n",
    "# This is the Vocabulary\n",
    "V = set(word_list)\n",
    "print(f'The first ten words in the text are : \\n{word_list[0:10]}')\n",
    "print(f'There are {len(V)} unique words in the vocabulary.')"
   ]
  },
  {
   "cell_type": "code",
   "execution_count": 32,
   "id": "a16add30",
   "metadata": {},
   "outputs": [
    {
     "name": "stdout",
     "output_type": "stream",
     "text": [
      "[('a', 2), ('able', 2), ('about', 2), ('account', 2), ('acid', 2), ('across', 2), ('act', 2), ('addition', 2), ('adjustment', 2), ('advertisement', 2)]\n"
     ]
    }
   ],
   "source": [
    "word_freq_dict = {}\n",
    "word_freq_dict = Counter(word_list)\n",
    "print(word_freq_dict.most_common()[0:10])"
   ]
  },
  {
   "cell_type": "code",
   "execution_count": 33,
   "id": "578aad57",
   "metadata": {},
   "outputs": [],
   "source": [
    "probs = {}\n",
    "total = sum(word_freq_dict.values())\n",
    "for k in word_freq_dict.keys():\n",
    "    probs[k] = word_freq_dict[k]/total"
   ]
  },
  {
   "cell_type": "code",
   "execution_count": 34,
   "id": "88e3cdbd",
   "metadata": {},
   "outputs": [],
   "source": [
    "def my_autocorrect(input_word):\n",
    "    input_word = input_word.lower()\n",
    "\n",
    "    if input_word in V:\n",
    "        output = 'Your word seems to be correct'\n",
    "        return output\n",
    "    else:\n",
    "        similarities = [1-(textdistance.Jaccard(qval = 2).distance(v, input_word)) for v in word_freq_dict.keys()]\n",
    "        df = pd.DataFrame.from_dict(probs, orient = 'index').reset_index()\n",
    "        df = df.rename(columns={'index':'Word', 0:'Prob'})\n",
    "        df['Similarity'] = similarities\n",
    "\n",
    "        output = df.sort_values(['Similarity', 'Prob'], ascending = False).head()\n",
    "\n",
    "        return output"
   ]
  },
  {
   "cell_type": "code",
   "execution_count": 49,
   "id": "88aa9ba2",
   "metadata": {},
   "outputs": [
    {
     "data": {
      "text/html": [
       "<div>\n",
       "<style scoped>\n",
       "    .dataframe tbody tr th:only-of-type {\n",
       "        vertical-align: middle;\n",
       "    }\n",
       "\n",
       "    .dataframe tbody tr th {\n",
       "        vertical-align: top;\n",
       "    }\n",
       "\n",
       "    .dataframe thead th {\n",
       "        text-align: right;\n",
       "    }\n",
       "</style>\n",
       "<table border=\"1\" class=\"dataframe\">\n",
       "  <thead>\n",
       "    <tr style=\"text-align: right;\">\n",
       "      <th></th>\n",
       "      <th>Word</th>\n",
       "      <th>Prob</th>\n",
       "      <th>Similarity</th>\n",
       "    </tr>\n",
       "  </thead>\n",
       "  <tbody>\n",
       "    <tr>\n",
       "      <th>68711</th>\n",
       "      <td>feat</td>\n",
       "      <td>0.000004</td>\n",
       "      <td>0.750000</td>\n",
       "    </tr>\n",
       "    <tr>\n",
       "      <th>68758</th>\n",
       "      <td>feature</td>\n",
       "      <td>0.000004</td>\n",
       "      <td>0.666667</td>\n",
       "    </tr>\n",
       "    <tr>\n",
       "      <th>68764</th>\n",
       "      <td>featy</td>\n",
       "      <td>0.000004</td>\n",
       "      <td>0.600000</td>\n",
       "    </tr>\n",
       "    <tr>\n",
       "      <th>68756</th>\n",
       "      <td>featural</td>\n",
       "      <td>0.000004</td>\n",
       "      <td>0.571429</td>\n",
       "    </tr>\n",
       "    <tr>\n",
       "      <th>68759</th>\n",
       "      <td>featured</td>\n",
       "      <td>0.000004</td>\n",
       "      <td>0.571429</td>\n",
       "    </tr>\n",
       "  </tbody>\n",
       "</table>\n",
       "</div>"
      ],
      "text/plain": [
       "           Word      Prob  Similarity\n",
       "68711      feat  0.000004    0.750000\n",
       "68758   feature  0.000004    0.666667\n",
       "68764     featy  0.000004    0.600000\n",
       "68756  featural  0.000004    0.571429\n",
       "68759  featured  0.000004    0.571429"
      ]
     },
     "execution_count": 49,
     "metadata": {},
     "output_type": "execute_result"
    }
   ],
   "source": [
    "my_autocorrect('featu')"
   ]
  },
  {
   "cell_type": "code",
   "execution_count": null,
   "id": "a01c22d7",
   "metadata": {},
   "outputs": [],
   "source": []
  }
 ],
 "metadata": {
  "kernelspec": {
   "display_name": "Python 3 (ipykernel)",
   "language": "python",
   "name": "python3"
  },
  "language_info": {
   "codemirror_mode": {
    "name": "ipython",
    "version": 3
   },
   "file_extension": ".py",
   "mimetype": "text/x-python",
   "name": "python",
   "nbconvert_exporter": "python",
   "pygments_lexer": "ipython3",
   "version": "3.10.9"
  }
 },
 "nbformat": 4,
 "nbformat_minor": 5
}

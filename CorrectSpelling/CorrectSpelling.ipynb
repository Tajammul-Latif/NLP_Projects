{
 "cells": [
  {
   "cell_type": "code",
   "execution_count": 4,
   "id": "e95c4cf7",
   "metadata": {},
   "outputs": [
    {
     "name": "stdout",
     "output_type": "stream",
     "text": [
      "Wrong words : ['Machne', 'Learnig']\n",
      "Corrected Words :\n",
      "Machine Hearing "
     ]
    }
   ],
   "source": [
    "from textblob import TextBlob\n",
    "\n",
    "words = ['Machne', 'Learnig']\n",
    "corrected_words = []\n",
    "\n",
    "for i in words:\n",
    "    corrected_words.append(TextBlob(i))\n",
    "    \n",
    "print('Wrong words :', words)\n",
    "print('Corrected Words :')\n",
    "for i in corrected_words:\n",
    "    print(i.correct(), end = \" \")"
   ]
  },
  {
   "cell_type": "code",
   "execution_count": null,
   "id": "7fce2e76",
   "metadata": {},
   "outputs": [],
   "source": []
  }
 ],
 "metadata": {
  "kernelspec": {
   "display_name": "Python 3 (ipykernel)",
   "language": "python",
   "name": "python3"
  },
  "language_info": {
   "codemirror_mode": {
    "name": "ipython",
    "version": 3
   },
   "file_extension": ".py",
   "mimetype": "text/x-python",
   "name": "python",
   "nbconvert_exporter": "python",
   "pygments_lexer": "ipython3",
   "version": "3.10.9"
  }
 },
 "nbformat": 4,
 "nbformat_minor": 5
}

{
 "cells": [
  {
   "cell_type": "code",
   "execution_count": 68,
   "id": "initial_id",
   "metadata": {
    "collapsed": true,
    "ExecuteTime": {
     "end_time": "2023-11-01T15:14:49.082216500Z",
     "start_time": "2023-11-01T15:14:48.827068400Z"
    }
   },
   "outputs": [],
   "source": [
    "import requests\n",
    "\n",
    "def fecthAndSaveFile(url, path):\n",
    "    r = requests.get(url)\n",
    "    with open(path, \"w\", encoding=\"utf-8\") as f:\n",
    "        f.write(r.text)"
   ]
  },
  {
   "cell_type": "code",
   "execution_count": 72,
   "outputs": [],
   "source": [
    "url = \"https://web.whatsapp.com/\"\n",
    "\n",
    "fecthAndSaveFile(url, \"Data/times.html\")"
   ],
   "metadata": {
    "collapsed": false,
    "ExecuteTime": {
     "end_time": "2023-11-01T15:15:56.225683800Z",
     "start_time": "2023-11-01T15:15:55.606944500Z"
    }
   },
   "id": "722fbabaa51ed3aa"
  },
  {
   "cell_type": "code",
   "execution_count": 73,
   "outputs": [
    {
     "name": "stdout",
     "output_type": "stream",
     "text": [
      "<!DOCTYPE html>\n",
      "<!--[if lt IE 7]>      <html class=\"no-js lt-ie9 lt-ie8 lt-ie7\"> <![endif]-->\n",
      "<!--[if IE 7]>         <html class=\"no-js lt-ie9 lt-ie8\"> <![endif]-->\n",
      "<!--[if IE 8]>         <html class=\"no-js lt-ie9\"> <![endif]-->\n",
      "<!--[if gt IE 8]><!-->\n",
      "<html class=\"no-js\" dir=\"ltr\">\n",
      " <!--<![endif]-->\n",
      " <head>\n",
      "  <meta charset=\"utf-8\"/>\n",
      "  <meta content=\"IE=edge,chrome=1\" http-equiv=\"X-UA-Compatible\"/>\n",
      "  <title>\n",
      "   WhatsApp Web\n",
      "  </title>\n",
      "  <meta content=\"width=device-width\" name=\"viewport\"/>\n",
      "  <meta content=\"notranslate\" name=\"google\"/>\n",
      "  <meta content=\"Quickly send and receive WhatsApp messages right from your computer.\" name=\"description\"/>\n",
      "  <meta content=\"Quickly send and receive WhatsApp messages right from your computer.\" name=\"og:description\"/>\n",
      "  <meta content=\"https://web.whatsapp.com/\" name=\"og:url\"/>\n",
      "  <meta content=\"WhatsApp Web\" name=\"og:title\"/>\n",
      "  <meta content=\"https://static.facebook.com/images/whatsapp/www/whatsapp-promo.png\" name=\"og:image\"/>\n",
      "  <link href=\"/img/favicon/1x/favicon.png\" rel=\"icon\" sizes=\"16x16\" type=\"image/png\"/>\n",
      "  <link href=\"/img/favicon/2x/favicon.png\" rel=\"icon\" sizes=\"32x32\" type=\"image/png\"/>\n",
      "  <link href=\"/favicon.ico\" rel=\"shortcut icon\" type=\"image/x-icon\"/>\n",
      "  <link href=\"/apple-touch-icon.png\" rel=\"apple-touch-icon\" sizes=\"194x194\" type=\"image/png\"/>\n",
      "  <link href=\"/browsers_8c2c2eae63aca1df3fd7.css\" rel=\"stylesheet\"/>\n",
      "  <link href=\"https://web.whatsapp.com\" hreflang=\"x-default\" rel=\"alternate\"/>\n",
      "  <link href=\"https://web.whatsapp.com/%F0%9F%8C%90/all\" hreflang=\"all\" rel=\"alternate\"/>\n",
      "  <link href=\"https://web.whatsapp.com/%F0%9F%8C%90/en\" hreflang=\"en\" rel=\"alternate\"/>\n",
      "  <link href=\"https://web.whatsapp.com/%F0%9F%8C%90/ar\" hreflang=\"ar\" rel=\"alternate\"/>\n",
      "  <link href=\"/browsers_8c2c2eae63aca1df3fd7.css\" rel=\"stylesheet\"/>\n",
      " </head>\n",
      " <body page=\"page-browsers\">\n",
      "  <div id=\"app\">\n",
      "   <div class=\"app-wrapper\">\n",
      "    <div class=\"landing-wrapper\">\n",
      "     <div class=\"landing-header\">\n",
      "      <span class=\"landing-icon\">\n",
      "       <img alt=\"WhatsApp\" class=\"landing-logo\" src=\"/img/logo-whatsapp-afe5ec49.png\"/>\n",
      "      </span>\n",
      "      <div class=\"landing-headerTitle\">\n",
      "       WhatsApp Web\n",
      "      </div>\n",
      "     </div>\n",
      "     <div class=\"landing-window\">\n",
      "      <div class=\"landing-main\">\n",
      "       <h1 class=\"landing-title browsers-title\">\n",
      "        Browser not supported\n",
      "       </h1>\n",
      "       <div class=\"text-tip\">\n",
      "        We recommend using WhatsApp with one of the following browsers:\n",
      "       </div>\n",
      "       <div class=\"browsers\">\n",
      "        <div class=\"browser\">\n",
      "         <a class=\"image\" href=\"http://www.google.com/chrome/\" target=\"_blank\">\n",
      "          <img class=\"image-logo\" src=\"/img/logo-chrome-537b698c.png\"/>\n",
      "         </a>\n",
      "         <a class=\"browser-title\" href=\"http://www.google.com/chrome/\" target=\"_blank\">\n",
      "          Google Chrome\n",
      "         </a>\n",
      "        </div>\n",
      "        <div class=\"browser\">\n",
      "         <a class=\"image\" href=\"http://www.firefox.com\" target=\"_blank\">\n",
      "          <img class=\"image-logo\" src=\"/img/logo-firefox-44f66fd9.png\"/>\n",
      "         </a>\n",
      "         <a class=\"browser-title\" href=\"http://www.firefox.com\" target=\"_blank\">\n",
      "          Mozilla Firefox\n",
      "         </a>\n",
      "        </div>\n",
      "        <div class=\"browser\">\n",
      "         <a class=\"image\" href=\"https://www.microsoft.com/edge\" target=\"_blank\">\n",
      "          <img class=\"image-logo\" src=\"/img/logo-edge-3f865fd8.png\"/>\n",
      "         </a>\n",
      "         <a class=\"browser-title\" href=\"https://www.microsoft.com/edge\" target=\"_blank\">\n",
      "          Microsoft Edge\n",
      "         </a>\n",
      "        </div>\n",
      "       </div>\n",
      "       <div class=\"text-tip\">\n",
      "        WhatsApp also supports:\n",
      "       </div>\n",
      "       <div class=\"browsers browsers-last\">\n",
      "        <div class=\"browser\">\n",
      "         <a class=\"image\" href=\"http://www.opera.com\" target=\"_blank\">\n",
      "          <img class=\"image-logo\" src=\"/img/logo-opera-b5cc1256.png\"/>\n",
      "         </a>\n",
      "         <a class=\"browser-title\" href=\"http://www.opera.com\" target=\"_blank\">\n",
      "          Opera\n",
      "         </a>\n",
      "        </div>\n",
      "        <div class=\"browser browser-safari\">\n",
      "         <a class=\"image\" href=\"https://support.apple.com/downloads/#safari\" target=\"_blank\">\n",
      "          <img class=\"image-logo\" src=\"/img/logo-safari-e44d1acf.png\"/>\n",
      "         </a>\n",
      "         <a class=\"browser-title\" href=\"https://support.apple.com/downloads/#safari\" target=\"_blank\">\n",
      "          Safari (macOS 11+ Only)\n",
      "         </a>\n",
      "        </div>\n",
      "       </div>\n",
      "      </div>\n",
      "     </div>\n",
      "    </div>\n",
      "   </div>\n",
      "  </div>\n",
      " </body>\n",
      "</html>\n"
     ]
    }
   ],
   "source": [
    "from bs4 import BeautifulSoup\n",
    "\n",
    "with open(\"Data/times.html\", \"r\", encoding = 'utf-8') as f:\n",
    "    html_doc = f.read()\n",
    "    \n",
    "soup = BeautifulSoup(html_doc, 'html.parser')\n",
    "print(soup.prettify())"
   ],
   "metadata": {
    "collapsed": false,
    "ExecuteTime": {
     "end_time": "2023-11-01T15:15:58.298991300Z",
     "start_time": "2023-11-01T15:15:58.228480800Z"
    }
   },
   "id": "52cfbed582ab7f51"
  },
  {
   "cell_type": "code",
   "execution_count": 74,
   "outputs": [
    {
     "name": "stdout",
     "output_type": "stream",
     "text": [
      "<title>WhatsApp Web</title> <class 'bs4.element.Tag'>\n"
     ]
    }
   ],
   "source": [
    "print(soup.title, type(soup.title))"
   ],
   "metadata": {
    "collapsed": false,
    "ExecuteTime": {
     "end_time": "2023-11-01T15:16:04.109905500Z",
     "start_time": "2023-11-01T15:16:04.089587700Z"
    }
   },
   "id": "a6effdd0bd849f94"
  },
  {
   "cell_type": "code",
   "execution_count": 75,
   "outputs": [
    {
     "data": {
      "text/plain": "<div id=\"app\"><div class=\"app-wrapper\"><div class=\"landing-wrapper\"><div class=\"landing-header\"><span class=\"landing-icon\"><img alt=\"WhatsApp\" class=\"landing-logo\" src=\"/img/logo-whatsapp-afe5ec49.png\"/></span><div class=\"landing-headerTitle\">WhatsApp Web</div></div><div class=\"landing-window\"><div class=\"landing-main\"><h1 class=\"landing-title browsers-title\">Browser not supported</h1><div class=\"text-tip\">We recommend using WhatsApp with one of the following browsers:</div><div class=\"browsers\"><div class=\"browser\"><a class=\"image\" href=\"http://www.google.com/chrome/\" target=\"_blank\"><img class=\"image-logo\" src=\"/img/logo-chrome-537b698c.png\"/> </a><a class=\"browser-title\" href=\"http://www.google.com/chrome/\" target=\"_blank\">Google Chrome</a></div><div class=\"browser\"><a class=\"image\" href=\"http://www.firefox.com\" target=\"_blank\"><img class=\"image-logo\" src=\"/img/logo-firefox-44f66fd9.png\"/> </a><a class=\"browser-title\" href=\"http://www.firefox.com\" target=\"_blank\">Mozilla Firefox</a></div><div class=\"browser\"><a class=\"image\" href=\"https://www.microsoft.com/edge\" target=\"_blank\"><img class=\"image-logo\" src=\"/img/logo-edge-3f865fd8.png\"/> </a><a class=\"browser-title\" href=\"https://www.microsoft.com/edge\" target=\"_blank\">Microsoft Edge</a></div></div><div class=\"text-tip\">WhatsApp also supports:</div><div class=\"browsers browsers-last\"><div class=\"browser\"><a class=\"image\" href=\"http://www.opera.com\" target=\"_blank\"><img class=\"image-logo\" src=\"/img/logo-opera-b5cc1256.png\"/> </a><a class=\"browser-title\" href=\"http://www.opera.com\" target=\"_blank\">Opera</a></div><div class=\"browser browser-safari\"><a class=\"image\" href=\"https://support.apple.com/downloads/#safari\" target=\"_blank\"><img class=\"image-logo\" src=\"/img/logo-safari-e44d1acf.png\"/> </a><a class=\"browser-title\" href=\"https://support.apple.com/downloads/#safari\" target=\"_blank\">Safari (macOS 11+ Only)</a></div></div></div></div></div></div></div>"
     },
     "execution_count": 75,
     "metadata": {},
     "output_type": "execute_result"
    }
   ],
   "source": [
    "soup.div"
   ],
   "metadata": {
    "collapsed": false,
    "ExecuteTime": {
     "end_time": "2023-11-01T15:16:06.194205300Z",
     "start_time": "2023-11-01T15:16:06.164304200Z"
    }
   },
   "id": "3911923a14c173f5"
  },
  {
   "cell_type": "code",
   "execution_count": 76,
   "outputs": [
    {
     "data": {
      "text/plain": "[<div id=\"app\"><div class=\"app-wrapper\"><div class=\"landing-wrapper\"><div class=\"landing-header\"><span class=\"landing-icon\"><img alt=\"WhatsApp\" class=\"landing-logo\" src=\"/img/logo-whatsapp-afe5ec49.png\"/></span><div class=\"landing-headerTitle\">WhatsApp Web</div></div><div class=\"landing-window\"><div class=\"landing-main\"><h1 class=\"landing-title browsers-title\">Browser not supported</h1><div class=\"text-tip\">We recommend using WhatsApp with one of the following browsers:</div><div class=\"browsers\"><div class=\"browser\"><a class=\"image\" href=\"http://www.google.com/chrome/\" target=\"_blank\"><img class=\"image-logo\" src=\"/img/logo-chrome-537b698c.png\"/> </a><a class=\"browser-title\" href=\"http://www.google.com/chrome/\" target=\"_blank\">Google Chrome</a></div><div class=\"browser\"><a class=\"image\" href=\"http://www.firefox.com\" target=\"_blank\"><img class=\"image-logo\" src=\"/img/logo-firefox-44f66fd9.png\"/> </a><a class=\"browser-title\" href=\"http://www.firefox.com\" target=\"_blank\">Mozilla Firefox</a></div><div class=\"browser\"><a class=\"image\" href=\"https://www.microsoft.com/edge\" target=\"_blank\"><img class=\"image-logo\" src=\"/img/logo-edge-3f865fd8.png\"/> </a><a class=\"browser-title\" href=\"https://www.microsoft.com/edge\" target=\"_blank\">Microsoft Edge</a></div></div><div class=\"text-tip\">WhatsApp also supports:</div><div class=\"browsers browsers-last\"><div class=\"browser\"><a class=\"image\" href=\"http://www.opera.com\" target=\"_blank\"><img class=\"image-logo\" src=\"/img/logo-opera-b5cc1256.png\"/> </a><a class=\"browser-title\" href=\"http://www.opera.com\" target=\"_blank\">Opera</a></div><div class=\"browser browser-safari\"><a class=\"image\" href=\"https://support.apple.com/downloads/#safari\" target=\"_blank\"><img class=\"image-logo\" src=\"/img/logo-safari-e44d1acf.png\"/> </a><a class=\"browser-title\" href=\"https://support.apple.com/downloads/#safari\" target=\"_blank\">Safari (macOS 11+ Only)</a></div></div></div></div></div></div></div>,\n <div class=\"app-wrapper\"><div class=\"landing-wrapper\"><div class=\"landing-header\"><span class=\"landing-icon\"><img alt=\"WhatsApp\" class=\"landing-logo\" src=\"/img/logo-whatsapp-afe5ec49.png\"/></span><div class=\"landing-headerTitle\">WhatsApp Web</div></div><div class=\"landing-window\"><div class=\"landing-main\"><h1 class=\"landing-title browsers-title\">Browser not supported</h1><div class=\"text-tip\">We recommend using WhatsApp with one of the following browsers:</div><div class=\"browsers\"><div class=\"browser\"><a class=\"image\" href=\"http://www.google.com/chrome/\" target=\"_blank\"><img class=\"image-logo\" src=\"/img/logo-chrome-537b698c.png\"/> </a><a class=\"browser-title\" href=\"http://www.google.com/chrome/\" target=\"_blank\">Google Chrome</a></div><div class=\"browser\"><a class=\"image\" href=\"http://www.firefox.com\" target=\"_blank\"><img class=\"image-logo\" src=\"/img/logo-firefox-44f66fd9.png\"/> </a><a class=\"browser-title\" href=\"http://www.firefox.com\" target=\"_blank\">Mozilla Firefox</a></div><div class=\"browser\"><a class=\"image\" href=\"https://www.microsoft.com/edge\" target=\"_blank\"><img class=\"image-logo\" src=\"/img/logo-edge-3f865fd8.png\"/> </a><a class=\"browser-title\" href=\"https://www.microsoft.com/edge\" target=\"_blank\">Microsoft Edge</a></div></div><div class=\"text-tip\">WhatsApp also supports:</div><div class=\"browsers browsers-last\"><div class=\"browser\"><a class=\"image\" href=\"http://www.opera.com\" target=\"_blank\"><img class=\"image-logo\" src=\"/img/logo-opera-b5cc1256.png\"/> </a><a class=\"browser-title\" href=\"http://www.opera.com\" target=\"_blank\">Opera</a></div><div class=\"browser browser-safari\"><a class=\"image\" href=\"https://support.apple.com/downloads/#safari\" target=\"_blank\"><img class=\"image-logo\" src=\"/img/logo-safari-e44d1acf.png\"/> </a><a class=\"browser-title\" href=\"https://support.apple.com/downloads/#safari\" target=\"_blank\">Safari (macOS 11+ Only)</a></div></div></div></div></div></div>,\n <div class=\"landing-wrapper\"><div class=\"landing-header\"><span class=\"landing-icon\"><img alt=\"WhatsApp\" class=\"landing-logo\" src=\"/img/logo-whatsapp-afe5ec49.png\"/></span><div class=\"landing-headerTitle\">WhatsApp Web</div></div><div class=\"landing-window\"><div class=\"landing-main\"><h1 class=\"landing-title browsers-title\">Browser not supported</h1><div class=\"text-tip\">We recommend using WhatsApp with one of the following browsers:</div><div class=\"browsers\"><div class=\"browser\"><a class=\"image\" href=\"http://www.google.com/chrome/\" target=\"_blank\"><img class=\"image-logo\" src=\"/img/logo-chrome-537b698c.png\"/> </a><a class=\"browser-title\" href=\"http://www.google.com/chrome/\" target=\"_blank\">Google Chrome</a></div><div class=\"browser\"><a class=\"image\" href=\"http://www.firefox.com\" target=\"_blank\"><img class=\"image-logo\" src=\"/img/logo-firefox-44f66fd9.png\"/> </a><a class=\"browser-title\" href=\"http://www.firefox.com\" target=\"_blank\">Mozilla Firefox</a></div><div class=\"browser\"><a class=\"image\" href=\"https://www.microsoft.com/edge\" target=\"_blank\"><img class=\"image-logo\" src=\"/img/logo-edge-3f865fd8.png\"/> </a><a class=\"browser-title\" href=\"https://www.microsoft.com/edge\" target=\"_blank\">Microsoft Edge</a></div></div><div class=\"text-tip\">WhatsApp also supports:</div><div class=\"browsers browsers-last\"><div class=\"browser\"><a class=\"image\" href=\"http://www.opera.com\" target=\"_blank\"><img class=\"image-logo\" src=\"/img/logo-opera-b5cc1256.png\"/> </a><a class=\"browser-title\" href=\"http://www.opera.com\" target=\"_blank\">Opera</a></div><div class=\"browser browser-safari\"><a class=\"image\" href=\"https://support.apple.com/downloads/#safari\" target=\"_blank\"><img class=\"image-logo\" src=\"/img/logo-safari-e44d1acf.png\"/> </a><a class=\"browser-title\" href=\"https://support.apple.com/downloads/#safari\" target=\"_blank\">Safari (macOS 11+ Only)</a></div></div></div></div></div>,\n <div class=\"landing-header\"><span class=\"landing-icon\"><img alt=\"WhatsApp\" class=\"landing-logo\" src=\"/img/logo-whatsapp-afe5ec49.png\"/></span><div class=\"landing-headerTitle\">WhatsApp Web</div></div>,\n <div class=\"landing-headerTitle\">WhatsApp Web</div>,\n <div class=\"landing-window\"><div class=\"landing-main\"><h1 class=\"landing-title browsers-title\">Browser not supported</h1><div class=\"text-tip\">We recommend using WhatsApp with one of the following browsers:</div><div class=\"browsers\"><div class=\"browser\"><a class=\"image\" href=\"http://www.google.com/chrome/\" target=\"_blank\"><img class=\"image-logo\" src=\"/img/logo-chrome-537b698c.png\"/> </a><a class=\"browser-title\" href=\"http://www.google.com/chrome/\" target=\"_blank\">Google Chrome</a></div><div class=\"browser\"><a class=\"image\" href=\"http://www.firefox.com\" target=\"_blank\"><img class=\"image-logo\" src=\"/img/logo-firefox-44f66fd9.png\"/> </a><a class=\"browser-title\" href=\"http://www.firefox.com\" target=\"_blank\">Mozilla Firefox</a></div><div class=\"browser\"><a class=\"image\" href=\"https://www.microsoft.com/edge\" target=\"_blank\"><img class=\"image-logo\" src=\"/img/logo-edge-3f865fd8.png\"/> </a><a class=\"browser-title\" href=\"https://www.microsoft.com/edge\" target=\"_blank\">Microsoft Edge</a></div></div><div class=\"text-tip\">WhatsApp also supports:</div><div class=\"browsers browsers-last\"><div class=\"browser\"><a class=\"image\" href=\"http://www.opera.com\" target=\"_blank\"><img class=\"image-logo\" src=\"/img/logo-opera-b5cc1256.png\"/> </a><a class=\"browser-title\" href=\"http://www.opera.com\" target=\"_blank\">Opera</a></div><div class=\"browser browser-safari\"><a class=\"image\" href=\"https://support.apple.com/downloads/#safari\" target=\"_blank\"><img class=\"image-logo\" src=\"/img/logo-safari-e44d1acf.png\"/> </a><a class=\"browser-title\" href=\"https://support.apple.com/downloads/#safari\" target=\"_blank\">Safari (macOS 11+ Only)</a></div></div></div></div>,\n <div class=\"landing-main\"><h1 class=\"landing-title browsers-title\">Browser not supported</h1><div class=\"text-tip\">We recommend using WhatsApp with one of the following browsers:</div><div class=\"browsers\"><div class=\"browser\"><a class=\"image\" href=\"http://www.google.com/chrome/\" target=\"_blank\"><img class=\"image-logo\" src=\"/img/logo-chrome-537b698c.png\"/> </a><a class=\"browser-title\" href=\"http://www.google.com/chrome/\" target=\"_blank\">Google Chrome</a></div><div class=\"browser\"><a class=\"image\" href=\"http://www.firefox.com\" target=\"_blank\"><img class=\"image-logo\" src=\"/img/logo-firefox-44f66fd9.png\"/> </a><a class=\"browser-title\" href=\"http://www.firefox.com\" target=\"_blank\">Mozilla Firefox</a></div><div class=\"browser\"><a class=\"image\" href=\"https://www.microsoft.com/edge\" target=\"_blank\"><img class=\"image-logo\" src=\"/img/logo-edge-3f865fd8.png\"/> </a><a class=\"browser-title\" href=\"https://www.microsoft.com/edge\" target=\"_blank\">Microsoft Edge</a></div></div><div class=\"text-tip\">WhatsApp also supports:</div><div class=\"browsers browsers-last\"><div class=\"browser\"><a class=\"image\" href=\"http://www.opera.com\" target=\"_blank\"><img class=\"image-logo\" src=\"/img/logo-opera-b5cc1256.png\"/> </a><a class=\"browser-title\" href=\"http://www.opera.com\" target=\"_blank\">Opera</a></div><div class=\"browser browser-safari\"><a class=\"image\" href=\"https://support.apple.com/downloads/#safari\" target=\"_blank\"><img class=\"image-logo\" src=\"/img/logo-safari-e44d1acf.png\"/> </a><a class=\"browser-title\" href=\"https://support.apple.com/downloads/#safari\" target=\"_blank\">Safari (macOS 11+ Only)</a></div></div></div>,\n <div class=\"text-tip\">We recommend using WhatsApp with one of the following browsers:</div>,\n <div class=\"browsers\"><div class=\"browser\"><a class=\"image\" href=\"http://www.google.com/chrome/\" target=\"_blank\"><img class=\"image-logo\" src=\"/img/logo-chrome-537b698c.png\"/> </a><a class=\"browser-title\" href=\"http://www.google.com/chrome/\" target=\"_blank\">Google Chrome</a></div><div class=\"browser\"><a class=\"image\" href=\"http://www.firefox.com\" target=\"_blank\"><img class=\"image-logo\" src=\"/img/logo-firefox-44f66fd9.png\"/> </a><a class=\"browser-title\" href=\"http://www.firefox.com\" target=\"_blank\">Mozilla Firefox</a></div><div class=\"browser\"><a class=\"image\" href=\"https://www.microsoft.com/edge\" target=\"_blank\"><img class=\"image-logo\" src=\"/img/logo-edge-3f865fd8.png\"/> </a><a class=\"browser-title\" href=\"https://www.microsoft.com/edge\" target=\"_blank\">Microsoft Edge</a></div></div>,\n <div class=\"browser\"><a class=\"image\" href=\"http://www.google.com/chrome/\" target=\"_blank\"><img class=\"image-logo\" src=\"/img/logo-chrome-537b698c.png\"/> </a><a class=\"browser-title\" href=\"http://www.google.com/chrome/\" target=\"_blank\">Google Chrome</a></div>,\n <div class=\"browser\"><a class=\"image\" href=\"http://www.firefox.com\" target=\"_blank\"><img class=\"image-logo\" src=\"/img/logo-firefox-44f66fd9.png\"/> </a><a class=\"browser-title\" href=\"http://www.firefox.com\" target=\"_blank\">Mozilla Firefox</a></div>,\n <div class=\"browser\"><a class=\"image\" href=\"https://www.microsoft.com/edge\" target=\"_blank\"><img class=\"image-logo\" src=\"/img/logo-edge-3f865fd8.png\"/> </a><a class=\"browser-title\" href=\"https://www.microsoft.com/edge\" target=\"_blank\">Microsoft Edge</a></div>,\n <div class=\"text-tip\">WhatsApp also supports:</div>,\n <div class=\"browsers browsers-last\"><div class=\"browser\"><a class=\"image\" href=\"http://www.opera.com\" target=\"_blank\"><img class=\"image-logo\" src=\"/img/logo-opera-b5cc1256.png\"/> </a><a class=\"browser-title\" href=\"http://www.opera.com\" target=\"_blank\">Opera</a></div><div class=\"browser browser-safari\"><a class=\"image\" href=\"https://support.apple.com/downloads/#safari\" target=\"_blank\"><img class=\"image-logo\" src=\"/img/logo-safari-e44d1acf.png\"/> </a><a class=\"browser-title\" href=\"https://support.apple.com/downloads/#safari\" target=\"_blank\">Safari (macOS 11+ Only)</a></div></div>,\n <div class=\"browser\"><a class=\"image\" href=\"http://www.opera.com\" target=\"_blank\"><img class=\"image-logo\" src=\"/img/logo-opera-b5cc1256.png\"/> </a><a class=\"browser-title\" href=\"http://www.opera.com\" target=\"_blank\">Opera</a></div>,\n <div class=\"browser browser-safari\"><a class=\"image\" href=\"https://support.apple.com/downloads/#safari\" target=\"_blank\"><img class=\"image-logo\" src=\"/img/logo-safari-e44d1acf.png\"/> </a><a class=\"browser-title\" href=\"https://support.apple.com/downloads/#safari\" target=\"_blank\">Safari (macOS 11+ Only)</a></div>]"
     },
     "execution_count": 76,
     "metadata": {},
     "output_type": "execute_result"
    }
   ],
   "source": [
    "soup.findAll('div')"
   ],
   "metadata": {
    "collapsed": false,
    "ExecuteTime": {
     "end_time": "2023-11-01T15:16:08.277363800Z",
     "start_time": "2023-11-01T15:16:08.197340300Z"
    }
   },
   "id": "518b9bb023bb47f1"
  },
  {
   "cell_type": "code",
   "execution_count": 77,
   "outputs": [
    {
     "data": {
      "text/plain": "16"
     },
     "execution_count": 77,
     "metadata": {},
     "output_type": "execute_result"
    }
   ],
   "source": [
    "len(soup.findAll('div'))"
   ],
   "metadata": {
    "collapsed": false,
    "ExecuteTime": {
     "end_time": "2023-11-01T15:16:09.488518300Z",
     "start_time": "2023-11-01T15:16:09.463567Z"
    }
   },
   "id": "68356d8bfe7193c4"
  },
  {
   "cell_type": "code",
   "execution_count": 79,
   "outputs": [
    {
     "data": {
      "text/plain": "<div class=\"browser\"><a class=\"image\" href=\"http://www.firefox.com\" target=\"_blank\"><img class=\"image-logo\" src=\"/img/logo-firefox-44f66fd9.png\"/> </a><a class=\"browser-title\" href=\"http://www.firefox.com\" target=\"_blank\">Mozilla Firefox</a></div>"
     },
     "execution_count": 79,
     "metadata": {},
     "output_type": "execute_result"
    }
   ],
   "source": [
    "soup.findAll('div')[10]"
   ],
   "metadata": {
    "collapsed": false,
    "ExecuteTime": {
     "end_time": "2023-11-01T15:16:15.820839Z",
     "start_time": "2023-11-01T15:16:15.767806900Z"
    }
   },
   "id": "6678e0585b9e3a48"
  },
  {
   "cell_type": "code",
   "execution_count": 80,
   "outputs": [
    {
     "name": "stdout",
     "output_type": "stream",
     "text": [
      "http://www.google.com/chrome/\n",
      "http://www.google.com/chrome/\n",
      "http://www.firefox.com\n",
      "http://www.firefox.com\n",
      "https://www.microsoft.com/edge\n",
      "https://www.microsoft.com/edge\n",
      "http://www.opera.com\n",
      "http://www.opera.com\n",
      "https://support.apple.com/downloads/#safari\n",
      "https://support.apple.com/downloads/#safari\n"
     ]
    }
   ],
   "source": [
    "for link in soup.findAll('a'):\n",
    "    print(link.get('href'))"
   ],
   "metadata": {
    "collapsed": false,
    "ExecuteTime": {
     "end_time": "2023-11-01T15:16:18.033061Z",
     "start_time": "2023-11-01T15:16:17.956346800Z"
    }
   },
   "id": "7f6b3866bae8bd4e"
  },
  {
   "cell_type": "code",
   "execution_count": 83,
   "outputs": [
    {
     "name": "stdout",
     "output_type": "stream",
     "text": [
      "<div id=\"app\"><div class=\"app-wrapper\"><div class=\"landing-wrapper\"><div class=\"landing-header\"><span class=\"landing-icon\"><img alt=\"WhatsApp\" class=\"landing-logo\" src=\"/img/logo-whatsapp-afe5ec49.png\"/></span><div class=\"landing-headerTitle\">WhatsApp Web</div></div><div class=\"landing-window\"><div class=\"landing-main\"><h1 class=\"landing-title browsers-title\">Browser not supported</h1><div class=\"text-tip\">We recommend using WhatsApp with one of the following browsers:</div><div class=\"browsers\"><div class=\"browser\"><a class=\"image\" href=\"http://www.google.com/chrome/\" target=\"_blank\"><img class=\"image-logo\" src=\"/img/logo-chrome-537b698c.png\"/> </a><a class=\"browser-title\" href=\"http://www.google.com/chrome/\" target=\"_blank\">Google Chrome</a></div><div class=\"browser\"><a class=\"image\" href=\"http://www.firefox.com\" target=\"_blank\"><img class=\"image-logo\" src=\"/img/logo-firefox-44f66fd9.png\"/> </a><a class=\"browser-title\" href=\"http://www.firefox.com\" target=\"_blank\">Mozilla Firefox</a></div><div class=\"browser\"><a class=\"image\" href=\"https://www.microsoft.com/edge\" target=\"_blank\"><img class=\"image-logo\" src=\"/img/logo-edge-3f865fd8.png\"/> </a><a class=\"browser-title\" href=\"https://www.microsoft.com/edge\" target=\"_blank\">Microsoft Edge</a></div></div><div class=\"text-tip\">WhatsApp also supports:</div><div class=\"browsers browsers-last\"><div class=\"browser\"><a class=\"image\" href=\"http://www.opera.com\" target=\"_blank\"><img class=\"image-logo\" src=\"/img/logo-opera-b5cc1256.png\"/> </a><a class=\"browser-title\" href=\"http://www.opera.com\" target=\"_blank\">Opera</a></div><div class=\"browser browser-safari\"><a class=\"image\" href=\"https://support.apple.com/downloads/#safari\" target=\"_blank\"><img class=\"image-logo\" src=\"/img/logo-safari-e44d1acf.png\"/> </a><a class=\"browser-title\" href=\"https://support.apple.com/downloads/#safari\" target=\"_blank\">Safari (macOS 11+ Only)</a></div></div></div></div></div></div></div>\n"
     ]
    }
   ],
   "source": [
    "print(soup.find(id = 'app'))"
   ],
   "metadata": {
    "collapsed": false,
    "ExecuteTime": {
     "end_time": "2023-11-01T15:16:58.808703700Z",
     "start_time": "2023-11-01T15:16:58.781516900Z"
    }
   },
   "id": "4f2c89efff79e274"
  },
  {
   "cell_type": "code",
   "execution_count": 84,
   "outputs": [
    {
     "name": "stdout",
     "output_type": "stream",
     "text": [
      "http://www.google.com/chrome/\n"
     ]
    }
   ],
   "source": [
    "head_masthead_linkText = soup.find(id = 'app')\n",
    "print(head_masthead_linkText.find('a').get('href'))"
   ],
   "metadata": {
    "collapsed": false,
    "ExecuteTime": {
     "end_time": "2023-11-01T15:17:10.599692800Z",
     "start_time": "2023-11-01T15:17:10.526171500Z"
    }
   },
   "id": "82d82f23cd2d8744"
  },
  {
   "cell_type": "code",
   "execution_count": 85,
   "outputs": [
    {
     "name": "stdout",
     "output_type": "stream",
     "text": [
      "<a class=\"image\" href=\"http://www.google.com/chrome/\" target=\"_blank\"><img class=\"image-logo\" src=\"/img/logo-chrome-537b698c.png\"/> </a>\n"
     ]
    }
   ],
   "source": [
    "header_masthead = soup.find(class_='app-wrapper')\n",
    "\n",
    "if header_masthead:\n",
    "    for child in header_masthead.children:\n",
    "        print(child.find('a'))\n",
    "else:\n",
    "    print(\"Element with class 'header-masthead' not found.\")\n"
   ],
   "metadata": {
    "collapsed": false,
    "ExecuteTime": {
     "end_time": "2023-11-01T15:17:19.920224600Z",
     "start_time": "2023-11-01T15:17:19.860031300Z"
    }
   },
   "id": "50abbcea4b5da090"
  },
  {
   "cell_type": "code",
   "execution_count": 86,
   "outputs": [
    {
     "name": "stdout",
     "output_type": "stream",
     "text": [
      "http://www.google.com/chrome/\n",
      "http://www.google.com/chrome/\n",
      "http://www.google.com/chrome/\n",
      "http://www.google.com/chrome/\n",
      "http://www.google.com/chrome/\n",
      "http://www.google.com/chrome/\n",
      "http://www.google.com/chrome/\n",
      "http://www.google.com/chrome/\n"
     ]
    }
   ],
   "source": [
    "for parent in soup.find(class_ = \"text-tip\").parents:\n",
    "    print(parent.find('a').get(\"href\"))"
   ],
   "metadata": {
    "collapsed": false,
    "ExecuteTime": {
     "end_time": "2023-11-01T15:17:44.402475300Z",
     "start_time": "2023-11-01T15:17:44.340863300Z"
    }
   },
   "id": "e7ff9308fac41bab"
  },
  {
   "cell_type": "code",
   "execution_count": 87,
   "outputs": [
    {
     "name": "stdout",
     "output_type": "stream",
     "text": [
      "<div class=\"my class\">Tajammul Latif</div>\n"
     ]
    }
   ],
   "source": [
    "content = soup.find(class_='text-tip')\n",
    "\n",
    "if content:\n",
    "    content['class'] = \"my class\"\n",
    "    content.string = \"Tajammul Latif\"\n",
    "    print(content)\n",
    "else:\n",
    "    print(\"Element with class 'appgutter' not found.\")\n"
   ],
   "metadata": {
    "collapsed": false,
    "ExecuteTime": {
     "end_time": "2023-11-01T15:17:50.542911400Z",
     "start_time": "2023-11-01T15:17:50.490312700Z"
    }
   },
   "id": "274698494152e727"
  },
  {
   "cell_type": "code",
   "execution_count": 88,
   "outputs": [],
   "source": [
    "ulTag = soup.new_tag('ul')\n",
    "\n",
    "liTag = soup.new_tag('li')\n",
    "liTag.string = \"Home\"\n",
    "ulTag.append(liTag)\n",
    "\n",
    "liTag = soup.new_tag('li')\n",
    "liTag.string = \"About\"\n",
    "ulTag.append(liTag)\n",
    "\n",
    "soup.html.body.insert(0, ulTag)\n",
    "with open('Data/times.html', 'a', encoding = 'utf-8') as f:\n",
    "    f.write(str(soup))"
   ],
   "metadata": {
    "collapsed": false,
    "ExecuteTime": {
     "end_time": "2023-11-01T15:17:56.713599600Z",
     "start_time": "2023-11-01T15:17:56.690651700Z"
    }
   },
   "id": "4db8b066c0006a77"
  },
  {
   "cell_type": "code",
   "execution_count": 89,
   "outputs": [
    {
     "data": {
      "text/plain": "[<li>Home</li>, <li>About</li>]"
     },
     "execution_count": 89,
     "metadata": {},
     "output_type": "execute_result"
    }
   ],
   "source": [
    "soup.find_all('li')"
   ],
   "metadata": {
    "collapsed": false,
    "ExecuteTime": {
     "end_time": "2023-11-01T15:18:37.555445500Z",
     "start_time": "2023-11-01T15:18:37.488108500Z"
    }
   },
   "id": "e2ec643a5b853a7b"
  },
  {
   "cell_type": "code",
   "execution_count": null,
   "outputs": [],
   "source": [],
   "metadata": {
    "collapsed": false
   },
   "id": "b689797e9773402e"
  }
 ],
 "metadata": {
  "kernelspec": {
   "display_name": "Python 3",
   "language": "python",
   "name": "python3"
  },
  "language_info": {
   "codemirror_mode": {
    "name": "ipython",
    "version": 2
   },
   "file_extension": ".py",
   "mimetype": "text/x-python",
   "name": "python",
   "nbconvert_exporter": "python",
   "pygments_lexer": "ipython2",
   "version": "2.7.6"
  }
 },
 "nbformat": 4,
 "nbformat_minor": 5
}

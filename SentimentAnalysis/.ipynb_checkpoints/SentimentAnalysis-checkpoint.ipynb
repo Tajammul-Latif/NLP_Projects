{
 "cells": [
  {
   "cell_type": "code",
   "execution_count": 2,
   "id": "1a54b78b",
   "metadata": {},
   "outputs": [
    {
     "name": "stderr",
     "output_type": "stream",
     "text": [
      "C:\\Users\\Tajammul\\AppData\\Local\\Temp\\ipykernel_12484\\3491301417.py:12: FutureWarning: The frame.append method is deprecated and will be removed from pandas in a future version. Use pandas.concat instead.\n",
      "  data1 = df1.append(df2)\n",
      "C:\\Users\\Tajammul\\AppData\\Local\\Temp\\ipykernel_12484\\3491301417.py:13: FutureWarning: The frame.append method is deprecated and will be removed from pandas in a future version. Use pandas.concat instead.\n",
      "  data = data1.append(df3)\n"
     ]
    },
    {
     "data": {
      "text/html": [
       "<div>\n",
       "<style scoped>\n",
       "    .dataframe tbody tr th:only-of-type {\n",
       "        vertical-align: middle;\n",
       "    }\n",
       "\n",
       "    .dataframe tbody tr th {\n",
       "        vertical-align: top;\n",
       "    }\n",
       "\n",
       "    .dataframe thead th {\n",
       "        text-align: right;\n",
       "    }\n",
       "</style>\n",
       "<table border=\"1\" class=\"dataframe\">\n",
       "  <thead>\n",
       "    <tr style=\"text-align: right;\">\n",
       "      <th></th>\n",
       "      <th>text</th>\n",
       "      <th>label</th>\n",
       "    </tr>\n",
       "  </thead>\n",
       "  <tbody>\n",
       "    <tr>\n",
       "      <th>0</th>\n",
       "      <td>I grew up (b. 1965) watching and loving the Th...</td>\n",
       "      <td>0</td>\n",
       "    </tr>\n",
       "    <tr>\n",
       "      <th>1</th>\n",
       "      <td>When I put this movie in my DVD player, and sa...</td>\n",
       "      <td>0</td>\n",
       "    </tr>\n",
       "    <tr>\n",
       "      <th>2</th>\n",
       "      <td>Why do people who do not know what a particula...</td>\n",
       "      <td>0</td>\n",
       "    </tr>\n",
       "    <tr>\n",
       "      <th>3</th>\n",
       "      <td>Even though I have great interest in Biblical ...</td>\n",
       "      <td>0</td>\n",
       "    </tr>\n",
       "    <tr>\n",
       "      <th>4</th>\n",
       "      <td>Im a die hard Dads Army fan and nothing will e...</td>\n",
       "      <td>1</td>\n",
       "    </tr>\n",
       "  </tbody>\n",
       "</table>\n",
       "</div>"
      ],
      "text/plain": [
       "                                                text  label\n",
       "0  I grew up (b. 1965) watching and loving the Th...      0\n",
       "1  When I put this movie in my DVD player, and sa...      0\n",
       "2  Why do people who do not know what a particula...      0\n",
       "3  Even though I have great interest in Biblical ...      0\n",
       "4  Im a die hard Dads Army fan and nothing will e...      1"
      ]
     },
     "execution_count": 2,
     "metadata": {},
     "output_type": "execute_result"
    }
   ],
   "source": [
    "import pandas as pd\n",
    "import numpy as np\n",
    "import matplotlib.pyplot as plt\n",
    "import seaborn as sns\n",
    "from sklearn.feature_extraction.text import CountVectorizer\n",
    "vectorizer = CountVectorizer()\n",
    "\n",
    "df1 = pd.read_csv('Train.csv')\n",
    "df2 = pd.read_csv('Test.csv')\n",
    "df3 = pd.read_csv('Valid.csv')\n",
    "\n",
    "data1 = df1.append(df2)\n",
    "data = data1.append(df3)\n",
    "data.head()"
   ]
  },
  {
   "cell_type": "code",
   "execution_count": 6,
   "id": "f56f20af",
   "metadata": {},
   "outputs": [
    {
     "data": {
      "image/png": "[encoded data removed]",
      "text/plain": [
       "<Figure size 500x500 with 1 Axes>"
      ]
     },
     "metadata": {},
     "output_type": "display_data"
    }
   ],
   "source": [
    "fig = plt.figure(figsize=(5, 5))\n",
    "colors = ['skyblue', 'pink']\n",
    "pos = data[data['label'] == 1]\n",
    "neg = data[data['label'] == 0]\n",
    "\n",
    "ck = [pos['label'].count(), neg['label'].count()]\n",
    "legpie = plt.pie(ck, labels = ['Positive', 'Negative'],\n",
    "                autopct = '1%1.1f%%',\n",
    "                shadow = True,\n",
    "                colors = colors,\n",
    "                startangle = 90,\n",
    "                explode = (0, 0.1))"
   ]
  },
  {
   "cell_type": "code",
   "execution_count": 9,
   "id": "bd680204",
   "metadata": {},
   "outputs": [],
   "source": [
    "import re\n",
    "def preprocessor(text):\n",
    "    text = re.sub('<[^>]*>', '', text)\n",
    "    emojis = re.findall('(?::|;|=)(?:-)?(?:\\)|\\(|D|P)',text)\n",
    "    text = re.sub('[\\W]+', ' ', text.lower()) + ' '.join(emojis).replace('-', '')\n",
    "    return text"
   ]
  },
  {
   "cell_type": "code",
   "execution_count": 10,
   "id": "bd5bb5cb",
   "metadata": {},
   "outputs": [],
   "source": [
    "data['text'] = data['text'].apply(preprocessor)"
   ]
  },
  {
   "cell_type": "code",
   "execution_count": 11,
   "id": "30fd127a",
   "metadata": {},
   "outputs": [
    {
     "data": {
      "text/plain": [
       "0    i grew up b 1965 watching and loving the thund...\n",
       "1    when i put this movie in my dvd player and sat...\n",
       "2    why do people who do not know what a particula...\n",
       "3    even though i have great interest in biblical ...\n",
       "4    im a die hard dads army fan and nothing will e...\n",
       "Name: text, dtype: object"
      ]
     },
     "execution_count": 11,
     "metadata": {},
     "output_type": "execute_result"
    }
   ],
   "source": [
    "data.text.head()"
   ]
  },
  {
   "cell_type": "code",
   "execution_count": 13,
   "id": "b7403119",
   "metadata": {},
   "outputs": [],
   "source": [
    "from nltk.stem.porter import PorterStemmer\n",
    "porter = PorterStemmer()\n",
    "def tokenizer(text):\n",
    "    return text.split()\n",
    "\n",
    "def tokenizer_porter(text):\n",
    "    return [porter.stem(word) for word in text.split()]"
   ]
  },
  {
   "cell_type": "code",
   "execution_count": 17,
   "id": "4f1cfe50",
   "metadata": {},
   "outputs": [
    {
     "name": "stderr",
     "output_type": "stream",
     "text": [
      "[nltk_data] Downloading package stopwords to\n",
      "[nltk_data]     C:\\Users\\Tajammul\\AppData\\Roaming\\nltk_data...\n",
      "[nltk_data]   Package stopwords is already up-to-date!\n"
     ]
    }
   ],
   "source": [
    "import nltk\n",
    "nltk.download('stopwords')\n",
    "from nltk.corpus import stopwords\n",
    "stopWords = stopwords.words('english')\n",
    "\n",
    "\n",
    "from wordcloud import WordCloud\n",
    "positiveData = data[data['label'] == 1]\n",
    "positiveData = positiveData['text']\n",
    "negativeData = data[data['label'] == 0]\n",
    "negativeData = negativeData['text']\n",
    "\n",
    "\n",
    "def wordcloud_draw(data, color = 'white'):\n",
    "    words = ' '.join(data)\n",
    "    cleaned_word = ' '.join([word for word in words.split() if (word != 'movie' and word != 'film')])\n",
    "    \n",
    "    wordcloud = WordCloud(stopwords = stopWords,\n",
    "                          background_color = color,\n",
    "                          width = 2500,\n",
    "                          height = 2500\n",
    "                         ).generate(cleaned_word)\n",
    "    \n",
    "    plt.figure(1, figsize = (10, 7))\n",
    "    plt.imshow(wordcloud)\n",
    "    plt.axis('off')\n",
    "    plt.show()"
   ]
  },
  {
   "cell_type": "code",
   "execution_count": null,
   "id": "9ea40e0a",
   "metadata": {},
   "outputs": [],
   "source": []
  }
 ],
 "metadata": {
  "kernelspec": {
   "display_name": "Python 3 (ipykernel)",
   "language": "python",
   "name": "python3"
  },
  "language_info": {
   "codemirror_mode": {
    "name": "ipython",
    "version": 3
   },
   "file_extension": ".py",
   "mimetype": "text/x-python",
   "name": "python",
   "nbconvert_exporter": "python",
   "pygments_lexer": "ipython3",
   "version": "3.10.9"
  }
 },
 "nbformat": 4,
 "nbformat_minor": 5
}
